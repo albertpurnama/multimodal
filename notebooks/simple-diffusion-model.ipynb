{
 "cells": [
  {
   "cell_type": "code",
   "execution_count": 2,
   "metadata": {},
   "outputs": [],
   "source": [
    "import logging\n",
    "from torch import nn"
   ]
  },
  {
   "cell_type": "code",
   "execution_count": null,
   "metadata": {},
   "outputs": [],
   "source": [
    "class GaussianDiffusion(nn.Module):\n",
    "\n",
    "    def __init__(self, *, timesteps: int):\n",
    "    \tsuper().__init__()\n",
    "        \n",
    "      alphas = 1. - betas\n",
    "      alphas_cumprod = torch.cumprod(alphas, axis=0)\n",
    "      alphas_cumprod_prev = F.pad(alphas_cumprod[:-1], (1, 0), value=1.)\n",
    "    \n",
    "    def q_sample(self, x_start, t, noise=None):\n",
    "        noise = default(noise, lambda: torch.randn_like(x_start))\n",
    "\n",
    "        noised = (\n",
    "                extract(self.sqrt_alphas_cumprod, t, x_start.shape) * x_start +\n",
    "                extract(self.sqrt_one_minus_alphas_cumprod, t, x_start.shape) * noise\n",
    "        )\n",
    "\n",
    "        return noised"
   ]
  }
 ],
 "metadata": {
  "kernelspec": {
   "display_name": "multimodal-SrVcmf-a-py3.12",
   "language": "python",
   "name": "python3"
  },
  "language_info": {
   "codemirror_mode": {
    "name": "ipython",
    "version": 3
   },
   "file_extension": ".py",
   "mimetype": "text/x-python",
   "name": "python",
   "nbconvert_exporter": "python",
   "pygments_lexer": "ipython3",
   "version": "3.12.3"
  }
 },
 "nbformat": 4,
 "nbformat_minor": 2
}
